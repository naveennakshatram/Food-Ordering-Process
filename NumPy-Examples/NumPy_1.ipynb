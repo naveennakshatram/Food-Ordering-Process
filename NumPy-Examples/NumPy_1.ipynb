{
  "nbformat": 4,
  "nbformat_minor": 0,
  "metadata": {
    "colab": {
      "provenance": [],
      "authorship_tag": "ABX9TyN87J2rTYbDE2PMgF1NYvlL",
      "include_colab_link": true
    },
    "kernelspec": {
      "name": "python3",
      "display_name": "Python 3"
    },
    "language_info": {
      "name": "python"
    }
  },
  "cells": [
    {
      "cell_type": "markdown",
      "metadata": {
        "id": "view-in-github",
        "colab_type": "text"
      },
      "source": [
        "<a href=\"https://colab.research.google.com/github/naveennakshatram/Food-Ordering-Process/blob/master/NumPy-Examples/NumPy_1.ipynb\" target=\"_parent\"><img src=\"https://colab.research.google.com/assets/colab-badge.svg\" alt=\"Open In Colab\"/></a>"
      ]
    },
    {
      "cell_type": "code",
      "execution_count": 1,
      "metadata": {
        "colab": {
          "base_uri": "https://localhost:8080/"
        },
        "id": "S9-SOJx9u1hr",
        "outputId": "55aff415-6510-4c88-e90f-2d289c041c40"
      },
      "outputs": [
        {
          "output_type": "stream",
          "name": "stdout",
          "text": [
            "Hello World\n"
          ]
        }
      ],
      "source": [
        "print(\"Hello World\")"
      ]
    },
    {
      "cell_type": "markdown",
      "source": [
        "# **NumPy Basic Exammples**\n",
        "\n",
        "# Numpy arrays\n",
        "\n",
        "In NumPy, a 1D array represents a **vector**, while a 2D array represents a **matrix**.\n"
      ],
      "metadata": {
        "id": "JsVCZxhwDlzu"
      }
    },
    {
      "cell_type": "code",
      "source": [
        "# Python List\n",
        "\n",
        "l1 = [1,2,3,4,5,6,7,8,9,10]\n",
        "\n",
        "print(l1)"
      ],
      "metadata": {
        "colab": {
          "base_uri": "https://localhost:8080/"
        },
        "id": "0KvQWkMQEa5F",
        "outputId": "a9cbdb24-dc88-4da1-ae88-05fd1747d239"
      },
      "execution_count": 4,
      "outputs": [
        {
          "output_type": "stream",
          "name": "stdout",
          "text": [
            "[1, 2, 3, 4, 5, 6, 7, 8, 9, 10]\n"
          ]
        }
      ]
    },
    {
      "cell_type": "code",
      "source": [],
      "metadata": {
        "id": "6OSEOBRbFKqJ"
      },
      "execution_count": 2,
      "outputs": []
    }
  ]
}